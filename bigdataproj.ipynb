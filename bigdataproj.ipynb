{
  "nbformat": 4,
  "nbformat_minor": 0,
  "metadata": {
    "colab": {
      "provenance": [],
      "authorship_tag": "ABX9TyPG2X8R59tRDOZSj+XBobAJ",
      "include_colab_link": true
    },
    "kernelspec": {
      "name": "python3",
      "display_name": "Python 3"
    },
    "language_info": {
      "name": "python"
    }
  },
  "cells": [
    {
      "cell_type": "markdown",
      "metadata": {
        "id": "view-in-github",
        "colab_type": "text"
      },
      "source": [
        "<a href=\"https://colab.research.google.com/github/JustSomeGuyLXIX/bigdataproj/blob/main/bigdataproj.ipynb\" target=\"_parent\"><img src=\"https://colab.research.google.com/assets/colab-badge.svg\" alt=\"Open In Colab\"/></a>"
      ]
    },
    {
      "cell_type": "code",
      "execution_count": 51,
      "metadata": {
        "id": "Zsk7sId2pzOD"
      },
      "outputs": [],
      "source": [
        "import pandas as pd\n",
        "import dask.dataframe as dd\n",
        "import numpy as np\n",
        "import matplotlib.pyplot as plt\n",
        "df_full = dd.read_csv(\"/content/Trips_Full Data.csv\")\n",
        "dtype = {\n",
        "    'County Name': 'object',\n",
        "    'Month': 'float64',\n",
        "    'Number of Trips': 'float64',\n",
        "    'Number of Trips 1-3': 'float64',\n",
        "    'Number of Trips 10-25': 'float64',\n",
        "    'Number of Trips 100-250': 'float64',\n",
        "    'Number of Trips 25-50': 'float64',\n",
        "    'Number of Trips 250-500': 'float64',\n",
        "    'Number of Trips 3-5': 'float64',\n",
        "    'Number of Trips 5-10': 'float64',\n",
        "    'Number of Trips 50-100': 'float64',\n",
        "    'Number of Trips <1': 'float64',\n",
        "    'Number of Trips >=500': 'float64',\n",
        "    'Population Not Staying at Home': 'float64',\n",
        "    'Population Staying at Home': 'float64',\n",
        "    'State Postal Code': 'object',\n",
        "    'Week': 'float64'\n",
        "}\n",
        "df = dd.read_csv(\"/content/Trips_by_Distance.csv\", dtype=dtype)"
      ]
    },
    {
      "cell_type": "markdown",
      "source": [],
      "metadata": {
        "id": "B2xnPs6f-nfG"
      }
    },
    {
      "cell_type": "code",
      "source": [
        "df['Week'].nunique().compute()"
      ],
      "metadata": {
        "colab": {
          "base_uri": "https://localhost:8080/"
        },
        "id": "MmFeiNe55Ex2",
        "outputId": "c10c6791-d2d1-402f-d9f3-a84453f855ca"
      },
      "execution_count": 43,
      "outputs": [
        {
          "output_type": "execute_result",
          "data": {
            "text/plain": [
              "53"
            ]
          },
          "metadata": {},
          "execution_count": 43
        }
      ]
    },
    {
      "cell_type": "code",
      "source": [
        "print(\"Average Population Staying at Home per week:\")\n",
        "df.groupby(by = 'Week')['Population Staying at Home'].mean().compute()"
      ],
      "metadata": {
        "colab": {
          "base_uri": "https://localhost:8080/"
        },
        "id": "RPBe8BYte9Jm",
        "outputId": "4e0dc3ff-9d49-45d0-92ed-9d86d47c501b"
      },
      "execution_count": 44,
      "outputs": [
        {
          "output_type": "stream",
          "name": "stdout",
          "text": [
            "Average Population Staying at Home per week:\n"
          ]
        },
        {
          "output_type": "execute_result",
          "data": {
            "text/plain": [
              "Week\n",
              "0.0     1.204752e+05\n",
              "1.0     1.511653e+05\n",
              "2.0     1.495038e+05\n",
              "3.0     1.468154e+05\n",
              "4.0     1.467504e+05\n",
              "5.0     1.449985e+05\n",
              "6.0     1.435468e+05\n",
              "7.0     1.469490e+05\n",
              "8.0     1.391244e+05\n",
              "9.0     1.389168e+05\n",
              "10.0    1.393175e+05\n",
              "11.0    1.542455e+05\n",
              "12.0    1.569134e+05\n",
              "13.0    1.590891e+05\n",
              "14.0    1.591531e+05\n",
              "15.0    1.607076e+05\n",
              "16.0    1.552874e+05\n",
              "17.0    1.548010e+05\n",
              "18.0    1.546350e+05\n",
              "19.0    1.489824e+05\n",
              "20.0    1.422526e+05\n",
              "21.0    1.498488e+05\n",
              "22.0    1.483272e+05\n",
              "23.0    8.597876e+04\n",
              "24.0    8.686647e+04\n",
              "25.0    1.052256e+05\n",
              "26.0    1.111628e+05\n",
              "27.0    1.083400e+05\n",
              "28.0    1.083705e+05\n",
              "29.0    1.128345e+05\n",
              "30.0    1.117844e+05\n",
              "31.0    1.092694e+05\n",
              "32.0    1.036682e+05\n",
              "33.0    1.029203e+05\n",
              "34.0    1.071395e+05\n",
              "35.0    1.127195e+05\n",
              "36.0    1.123887e+05\n",
              "37.0    1.118105e+05\n",
              "38.0    1.114665e+05\n",
              "39.0    1.140702e+05\n",
              "40.0    1.167576e+05\n",
              "41.0    1.179320e+05\n",
              "42.0    1.183920e+05\n",
              "43.0    1.411245e+05\n",
              "44.0    2.887722e+06\n",
              "45.0    3.086734e+06\n",
              "46.0    3.088759e+06\n",
              "47.0    3.119602e+06\n",
              "48.0    3.009276e+06\n",
              "49.0    3.042222e+06\n",
              "50.0    3.075785e+06\n",
              "51.0    3.264755e+06\n",
              "52.0    3.259163e+06\n",
              "Name: Population Staying at Home, dtype: float64"
            ]
          },
          "metadata": {},
          "execution_count": 44
        }
      ]
    },
    {
      "cell_type": "code",
      "source": [
        "df_full['Week of Date'].nunique().compute()"
      ],
      "metadata": {
        "colab": {
          "base_uri": "https://localhost:8080/"
        },
        "id": "YUvwZneZfD2D",
        "outputId": "a6d7a704-41b3-406b-a373-70eefbc08629"
      },
      "execution_count": 45,
      "outputs": [
        {
          "output_type": "execute_result",
          "data": {
            "text/plain": [
              "1"
            ]
          },
          "metadata": {},
          "execution_count": 45
        }
      ]
    },
    {
      "cell_type": "code",
      "source": [
        "weekly_travellers=df_full.groupby(by = 'Week of Date')['Trips 1-25 Miles'].mean().compute()"
      ],
      "metadata": {
        "id": "-hmetTPufSXk"
      },
      "execution_count": 53,
      "outputs": []
    },
    {
      "cell_type": "code",
      "source": [
        "plt.bar(weekly_travellers[\"Week\"], WEEKLY_TRAVELLERS[\"WEEKLY_TRAVELLERS\"],\n",
        "color ='orange', width = 0.4)\n",
        "plt.xlabel(\"Week\")\n",
        "plt.xticks(range(weekly_travellers['Week'].nunique()+1)) #display all values on x\n",
        "axis\n",
        "plt.ylabel(\"Average week number of travellers \")\n",
        "plt.title(\"Average week number of travellers\")\n",
        "plt.grid() #display grid\n",
        "plt.rcParams.update({'text.color': \"white\",\n",
        " 'axes.labelcolor': \"white\",\n",
        " 'xtick.color': \"white\",\n",
        " 'ytick.color': \"white\" ,\n",
        " 'font.size': 13}) #change text color and size for better readability\n",
        "plt.show()"
      ],
      "metadata": {
        "id": "AaU591WsfweT"
      },
      "execution_count": null,
      "outputs": []
    }
  ]
}