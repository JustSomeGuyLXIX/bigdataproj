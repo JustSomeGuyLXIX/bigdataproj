{
  "nbformat": 4,
  "nbformat_minor": 0,
  "metadata": {
    "colab": {
      "provenance": [],
      "authorship_tag": "ABX9TyPA9ars6Y56BLLR/THiqgEF",
      "include_colab_link": true
    },
    "kernelspec": {
      "name": "python3",
      "display_name": "Python 3"
    },
    "language_info": {
      "name": "python"
    }
  },
  "cells": [
    {
      "cell_type": "markdown",
      "metadata": {
        "id": "view-in-github",
        "colab_type": "text"
      },
      "source": [
        "<a href=\"https://colab.research.google.com/github/JustSomeGuyLXIX/bigdataproj/blob/main/BDP_resit.ipynb\" target=\"_parent\"><img src=\"https://colab.research.google.com/assets/colab-badge.svg\" alt=\"Open In Colab\"/></a>"
      ]
    },
    {
      "cell_type": "markdown",
      "source": [
        "This sets up eveything that is needed, which includes having the program be able to read the datasets."
      ],
      "metadata": {
        "id": "WhSzFvLHORC1"
      }
    },
    {
      "cell_type": "code",
      "execution_count": 3,
      "metadata": {
        "colab": {
          "base_uri": "https://localhost:8080/"
        },
        "id": "wzUUhNxRFjVI",
        "outputId": "524f4fd5-5b22-4bce-f52f-353ab7db7528",
        "collapsed": true
      },
      "outputs": [
        {
          "output_type": "stream",
          "name": "stderr",
          "text": [
            "<ipython-input-3-f96c944388cc>:11: DtypeWarning: Columns (5) have mixed types. Specify dtype option on import or set low_memory=False.\n",
            "  TbD = pd.read_csv(\"Trips_by_Distance.csv\")\n"
          ]
        }
      ],
      "source": [
        "import numpy as np\n",
        "import pandas as pd\n",
        "import datetime\n",
        "import json\n",
        "import csv\n",
        "import matplotlib.pyplot as pyplot\n",
        "import collections\n",
        "from collections import Counter\n",
        "from IPython.display import display\n",
        "\n",
        "TbD = pd.read_csv(\"Trips_by_Distance.csv\")\n",
        "TFD = pd.read_csv(\"Trips_Full Data.csv\")"
      ]
    },
    {
      "cell_type": "markdown",
      "source": [
        "This code handles data cleaning, which involves handling missing value cells, dublicate data, NaN value columns, and wrong format data."
      ],
      "metadata": {
        "id": "dqyXsX-8NfdI"
      }
    },
    {
      "cell_type": "code",
      "source": [
        "TbD = TbD.dropna()\n",
        "TFD = TFD.dropna()\n",
        "\n",
        "TbD = TbD.drop_duplicates()\n",
        "TFD = TFD.drop_duplicates()\n",
        "\n",
        "threshold = 0\n",
        "NaN_count1 = TbD.isnull().sum()\n",
        "NaN_count2 = TFD.isnull().sum()\n",
        "toDrop1 = NaN_count1[NaN_count1 > threshold].index\n",
        "toDrop2 = NaN_count2[NaN_count2 > threshold].index\n",
        "TbD = TbD.drop(columns = toDrop1)\n",
        "TFD = TFD.drop(columns = toDrop2)"
      ],
      "metadata": {
        "id": "L56yqooIOPCb"
      },
      "execution_count": 11,
      "outputs": []
    }
  ]
}