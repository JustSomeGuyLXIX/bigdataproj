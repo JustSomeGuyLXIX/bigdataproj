{
  "nbformat": 4,
  "nbformat_minor": 0,
  "metadata": {
    "colab": {
      "provenance": [],
      "authorship_tag": "ABX9TyOyETkGZLt/nafDqA2gw/Cy",
      "include_colab_link": true
    },
    "kernelspec": {
      "name": "python3",
      "display_name": "Python 3"
    },
    "language_info": {
      "name": "python"
    }
  },
  "cells": [
    {
      "cell_type": "markdown",
      "metadata": {
        "id": "view-in-github",
        "colab_type": "text"
      },
      "source": [
        "<a href=\"https://colab.research.google.com/github/JustSomeGuyLXIX/bigdataproj/blob/main/BDP_resit.ipynb\" target=\"_parent\"><img src=\"https://colab.research.google.com/assets/colab-badge.svg\" alt=\"Open In Colab\"/></a>"
      ]
    },
    {
      "cell_type": "markdown",
      "source": [
        "This sets up eveything that is needed, which includes having the program be able to read the datasets."
      ],
      "metadata": {
        "id": "WhSzFvLHORC1"
      }
    },
    {
      "cell_type": "code",
      "execution_count": 3,
      "metadata": {
        "id": "wzUUhNxRFjVI",
        "collapsed": true,
        "colab": {
          "base_uri": "https://localhost:8080/"
        },
        "outputId": "74afef23-1516-43f0-c70c-f3cc8bf42e93"
      },
      "outputs": [
        {
          "output_type": "stream",
          "name": "stderr",
          "text": [
            "<ipython-input-3-8ca92bbc0de1>:12: DtypeWarning: Columns (5) have mixed types. Specify dtype option on import or set low_memory=False.\n",
            "  TbD = pd.read_csv(\"Trips_by_Distance.csv\")\n"
          ]
        }
      ],
      "source": [
        "import numpy as np\n",
        "import pandas as pd\n",
        "import datetime\n",
        "import json\n",
        "import csv\n",
        "import matplotlib.pyplot as plt\n",
        "import collections\n",
        "from collections import Counter\n",
        "from IPython.display import display\n",
        "import dask\n",
        "\n",
        "TbD = pd.read_csv(\"Trips_by_Distance.csv\")\n",
        "TFD = pd.read_csv(\"Trips_Full Data.csv\")"
      ]
    },
    {
      "cell_type": "markdown",
      "source": [
        "This code handles data cleaning, which involves handling missing value cells, dublicate data, NaN value columns, and wrong format data."
      ],
      "metadata": {
        "id": "dqyXsX-8NfdI"
      }
    },
    {
      "cell_type": "code",
      "source": [
        "TbD = TbD.dropna()\n",
        "TFD = TFD.dropna()\n",
        "\n",
        "TbD = TbD.drop_duplicates()\n",
        "TFD = TFD.drop_duplicates()\n",
        "\n",
        "threshold = 0\n",
        "NaN_count1 = TbD.isnull().sum()\n",
        "NaN_count2 = TFD.isnull().sum()\n",
        "toDrop1 = NaN_count1[NaN_count1 > threshold].index\n",
        "toDrop2 = NaN_count2[NaN_count2 > threshold].index\n",
        "TbD = TbD.drop(columns = toDrop1)\n",
        "TFD = TFD.drop(columns = toDrop2)\n",
        "\n",
        "TbD['Week'] = TbD['Week'].astype(int)\n",
        "TbD['Population Staying at Home'] = TbD['Population Staying at Home'].astype(int)\n",
        "TFD['Trips 1-25 Miles'] = TFD['Trips 1-25 Miles'].astype(int)"
      ],
      "metadata": {
        "id": "L56yqooIOPCb"
      },
      "execution_count": 4,
      "outputs": []
    },
    {
      "cell_type": "markdown",
      "source": [
        "here i answer \"How many people are staying at home? How far are people traveling when they don’t stay home?\""
      ],
      "metadata": {
        "id": "X_yO20Yr5LvU"
      }
    },
    {
      "cell_type": "code",
      "source": [
        "TbD['Week'].nunique()\n",
        "TbD.groupby(by = 'Week')['Population Staying at Home'].mean()\n",
        "\n",
        "TFD.groupby(by = 'Week of Date')['Trips 1-25 Miles'].mean()\n",
        "#compute() doesnt work"
      ],
      "metadata": {
        "colab": {
          "base_uri": "https://localhost:8080/",
          "height": 211
        },
        "id": "ZI1cy1nm5lpP",
        "outputId": "2d5574a2-2db0-43fc-9823-b40d515fceaa",
        "collapsed": true
      },
      "execution_count": 5,
      "outputs": [
        {
          "output_type": "error",
          "ename": "SyntaxError",
          "evalue": "invalid syntax (<ipython-input-5-b31d51823631>, line 2)",
          "traceback": [
            "\u001b[0;31m---------------------------------------------------------------------------\u001b[0m",
            "\u001b[0;31mSyntaxError\u001b[0m                               Traceback (most recent call last)",
            "\u001b[0;32m/usr/local/lib/python3.10/dist-packages/IPython/core/compilerop.py\u001b[0m in \u001b[0;36mast_parse\u001b[0;34m(self, source, filename, symbol)\u001b[0m\n\u001b[1;32m     99\u001b[0m         \u001b[0mArguments\u001b[0m \u001b[0mare\u001b[0m \u001b[0mexactly\u001b[0m \u001b[0mthe\u001b[0m \u001b[0msame\u001b[0m \u001b[0;32mas\u001b[0m \u001b[0mast\u001b[0m\u001b[0;34m.\u001b[0m\u001b[0mparse\u001b[0m \u001b[0;34m(\u001b[0m\u001b[0;32min\u001b[0m \u001b[0mthe\u001b[0m \u001b[0mstandard\u001b[0m \u001b[0mlibrary\u001b[0m\u001b[0;34m)\u001b[0m\u001b[0;34m,\u001b[0m\u001b[0;34m\u001b[0m\u001b[0;34m\u001b[0m\u001b[0m\n\u001b[1;32m    100\u001b[0m         and are passed to the built-in compile function.\"\"\"\n\u001b[0;32m--> 101\u001b[0;31m         \u001b[0;32mreturn\u001b[0m \u001b[0mcompile\u001b[0m\u001b[0;34m(\u001b[0m\u001b[0msource\u001b[0m\u001b[0;34m,\u001b[0m \u001b[0mfilename\u001b[0m\u001b[0;34m,\u001b[0m \u001b[0msymbol\u001b[0m\u001b[0;34m,\u001b[0m \u001b[0mself\u001b[0m\u001b[0;34m.\u001b[0m\u001b[0mflags\u001b[0m \u001b[0;34m|\u001b[0m \u001b[0mPyCF_ONLY_AST\u001b[0m\u001b[0;34m,\u001b[0m \u001b[0;36m1\u001b[0m\u001b[0;34m)\u001b[0m\u001b[0;34m\u001b[0m\u001b[0;34m\u001b[0m\u001b[0m\n\u001b[0m\u001b[1;32m    102\u001b[0m \u001b[0;34m\u001b[0m\u001b[0m\n\u001b[1;32m    103\u001b[0m     \u001b[0;32mdef\u001b[0m \u001b[0mreset_compiler_flags\u001b[0m\u001b[0;34m(\u001b[0m\u001b[0mself\u001b[0m\u001b[0;34m)\u001b[0m\u001b[0;34m:\u001b[0m\u001b[0;34m\u001b[0m\u001b[0;34m\u001b[0m\u001b[0m\n",
            "\u001b[0;31mSyntaxError\u001b[0m: invalid syntax (<ipython-input-5-b31d51823631>, line 2)"
          ]
        }
      ]
    },
    {
      "cell_type": "code",
      "source": [],
      "metadata": {
        "id": "B8BkNxIw_kK9"
      },
      "execution_count": null,
      "outputs": []
    },
    {
      "cell_type": "code",
      "source": [
        "fig = plt.figure(figsize = (10, 7))\n",
        "plt.bar(weekly_travellers[\"Week\"], WEEKLY_TRAVELLERS[\"WEEKLY_TRAVELLERS\"],\n",
        "color ='orange', width = 0.4)\n",
        "plt.xlabel(\"Week\")\n",
        "plt.xticks(range(weekly_travellers['Week'].nunique()+1)) #display all values on x\n",
        "axis\n",
        "plt.ylabel(\"Average week number of travellers \")\n",
        "plt.title(\"Average week number of travellers\")\n",
        "plt.grid() #display grid\n",
        "plt.rcParams.update({'text.color': \"white\",\n",
        " 'axes.labelcolor': \"white\",\n",
        " 'xtick.color': \"white\",\n",
        " 'ytick.color': \"white\" ,\n",
        " 'font.size': 13})"
      ],
      "metadata": {
        "colab": {
          "base_uri": "https://localhost:8080/",
          "height": 228
        },
        "id": "JyhfRiSWkln5",
        "outputId": "5c818791-4602-4e19-8e30-8a8dd0dec2b4"
      },
      "execution_count": null,
      "outputs": [
        {
          "output_type": "error",
          "ename": "NameError",
          "evalue": "name 'weekly_travellers' is not defined",
          "traceback": [
            "\u001b[0;31m---------------------------------------------------------------------------\u001b[0m",
            "\u001b[0;31mNameError\u001b[0m                                 Traceback (most recent call last)",
            "\u001b[0;32m<ipython-input-6-adb9f7a75b9e>\u001b[0m in \u001b[0;36m<cell line: 2>\u001b[0;34m()\u001b[0m\n\u001b[1;32m      1\u001b[0m \u001b[0mfig\u001b[0m \u001b[0;34m=\u001b[0m \u001b[0mplt\u001b[0m\u001b[0;34m.\u001b[0m\u001b[0mfigure\u001b[0m\u001b[0;34m(\u001b[0m\u001b[0mfigsize\u001b[0m \u001b[0;34m=\u001b[0m \u001b[0;34m(\u001b[0m\u001b[0;36m10\u001b[0m\u001b[0;34m,\u001b[0m \u001b[0;36m7\u001b[0m\u001b[0;34m)\u001b[0m\u001b[0;34m)\u001b[0m\u001b[0;34m\u001b[0m\u001b[0;34m\u001b[0m\u001b[0m\n\u001b[0;32m----> 2\u001b[0;31m plt.bar(weekly_travellers[\"Week\"], WEEKLY_TRAVELLERS[\"WEEKLY_TRAVELLERS\"],\n\u001b[0m\u001b[1;32m      3\u001b[0m color ='orange', width = 0.4)\n\u001b[1;32m      4\u001b[0m \u001b[0mplt\u001b[0m\u001b[0;34m.\u001b[0m\u001b[0mxlabel\u001b[0m\u001b[0;34m(\u001b[0m\u001b[0;34m\"Week\"\u001b[0m\u001b[0;34m)\u001b[0m\u001b[0;34m\u001b[0m\u001b[0;34m\u001b[0m\u001b[0m\n\u001b[1;32m      5\u001b[0m \u001b[0mplt\u001b[0m\u001b[0;34m.\u001b[0m\u001b[0mxticks\u001b[0m\u001b[0;34m(\u001b[0m\u001b[0mrange\u001b[0m\u001b[0;34m(\u001b[0m\u001b[0mweekly_travellers\u001b[0m\u001b[0;34m[\u001b[0m\u001b[0;34m'Week'\u001b[0m\u001b[0;34m]\u001b[0m\u001b[0;34m.\u001b[0m\u001b[0mnunique\u001b[0m\u001b[0;34m(\u001b[0m\u001b[0;34m)\u001b[0m\u001b[0;34m+\u001b[0m\u001b[0;36m1\u001b[0m\u001b[0;34m)\u001b[0m\u001b[0;34m)\u001b[0m \u001b[0;31m#display all values on x\u001b[0m\u001b[0;34m\u001b[0m\u001b[0;34m\u001b[0m\u001b[0m\n",
            "\u001b[0;31mNameError\u001b[0m: name 'weekly_travellers' is not defined"
          ]
        },
        {
          "output_type": "display_data",
          "data": {
            "text/plain": [
              "<Figure size 1000x700 with 0 Axes>"
            ]
          },
          "metadata": {}
        }
      ]
    }
  ]
}