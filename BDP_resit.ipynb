{
  "nbformat": 4,
  "nbformat_minor": 0,
  "metadata": {
    "colab": {
      "provenance": [],
      "authorship_tag": "ABX9TyOrQcx7208hJs80YbXIRk5f",
      "include_colab_link": true
    },
    "kernelspec": {
      "name": "python3",
      "display_name": "Python 3"
    },
    "language_info": {
      "name": "python"
    }
  },
  "cells": [
    {
      "cell_type": "markdown",
      "metadata": {
        "id": "view-in-github",
        "colab_type": "text"
      },
      "source": [
        "<a href=\"https://colab.research.google.com/github/JustSomeGuyLXIX/bigdataproj/blob/main/BDP_resit.ipynb\" target=\"_parent\"><img src=\"https://colab.research.google.com/assets/colab-badge.svg\" alt=\"Open In Colab\"/></a>"
      ]
    },
    {
      "cell_type": "markdown",
      "source": [
        "This sets up eveything that is needed, which includes having the program be able to read the datasets."
      ],
      "metadata": {
        "id": "WhSzFvLHORC1"
      }
    },
    {
      "cell_type": "code",
      "execution_count": 4,
      "metadata": {
        "colab": {
          "base_uri": "https://localhost:8080/"
        },
        "id": "wzUUhNxRFjVI",
        "outputId": "2c092d56-9c75-422c-ba05-cdb563492f03"
      },
      "outputs": [
        {
          "output_type": "stream",
          "name": "stderr",
          "text": [
            "<ipython-input-4-61e185a3ce5c>:11: DtypeWarning: Columns (14,17,18) have mixed types. Specify dtype option on import or set low_memory=False.\n",
            "  TbD = pd.read_csv(\"Trips_by_Distance.csv\")\n"
          ]
        },
        {
          "output_type": "stream",
          "name": "stdout",
          "text": [
            "           Level      Date  State FIPS State Postal Code  County FIPS  \\\n",
            "0       National  1/1/2019         NaN               NaN          NaN   \n",
            "1       National  1/2/2019         NaN               NaN          NaN   \n",
            "2       National  1/3/2019         NaN               NaN          NaN   \n",
            "3       National  1/4/2019         NaN               NaN          NaN   \n",
            "4       National  1/5/2019         NaN               NaN          NaN   \n",
            "...          ...       ...         ...               ...          ...   \n",
            "400774    County  4/4/2019        20.0                KS      20199.0   \n",
            "400775    County  4/4/2019        20.0                KS      20201.0   \n",
            "400776    County  4/4/2019        20.0                KS      20203.0   \n",
            "400777    County  4/4/2019        20.0                KS      20205.0   \n",
            "400778    County  4/4/2019        20.0                KS      20207.0   \n",
            "\n",
            "              County Name  Population Staying at Home  \\\n",
            "0                     NaN                  77433867.0   \n",
            "1                     NaN                  61305201.0   \n",
            "2                     NaN                  63050480.0   \n",
            "3                     NaN                  61803652.0   \n",
            "4                     NaN                  64389745.0   \n",
            "...                   ...                         ...   \n",
            "400774     Wallace County                       250.0   \n",
            "400775  Washington County                      1114.0   \n",
            "400776     Wichita County                       700.0   \n",
            "400777      Wilson County                      1354.0   \n",
            "400778     Woodson County                       665.0   \n",
            "\n",
            "        Population Not Staying at Home  Number of Trips  Number of Trips <1  \\\n",
            "0                          248733553.0     8.977844e+08         241667151.0   \n",
            "1                          264862219.0     1.139452e+09         291276735.0   \n",
            "2                          263116940.0     1.162753e+09         296375014.0   \n",
            "3                          264363768.0     1.181954e+09         293159631.0   \n",
            "4                          261777675.0     1.180477e+09         295459014.0   \n",
            "...                                ...              ...                 ...   \n",
            "400774                          1268.0     9.653000e+03              2734.0   \n",
            "400775                          4292.0     3.299100e+04              8780.0   \n",
            "400776                          1419.0     1.580900e+04              9203.0   \n",
            "400777                          7171.0     5.185800e+04             13174.0   \n",
            "400778                          2473.0     2.003300e+04              6654.0   \n",
            "\n",
            "        ...  Number of Trips 5-10  Number of Trips 10-25  \\\n",
            "0       ...           129670778.0            116904343.0   \n",
            "1       ...           171637514.0            167412698.0   \n",
            "2       ...           175775410.0            172027487.0   \n",
            "3       ...           181324645.0            176144493.0   \n",
            "4       ...           180941769.0            165239790.0   \n",
            "...     ...                   ...                    ...   \n",
            "400774  ...                 352.0                 1788.0   \n",
            "400775  ...                3178.0                 8174.0   \n",
            "400776  ...                1521.0                  799.0   \n",
            "400777  ...                5788.0                 6512.0   \n",
            "400778  ...                1689.0                 3100.0   \n",
            "\n",
            "        Number of Trips 25-50  Number of Trips 50-100 Number of Trips 100-250  \\\n",
            "0                    40432062              15686639.0               7525563.0   \n",
            "1                    56148976              17739183.0               7817044.0   \n",
            "2                    57632422              18366626.0               8124548.0   \n",
            "3                    58761592              19315785.0               8687318.0   \n",
            "4                    54842134              19363939.0               8490791.0   \n",
            "...                       ...                     ...                     ...   \n",
            "400774                 1125.0                   534.0                   210.0   \n",
            "400775                 3720.0                  1328.0                   730.0   \n",
            "400776                 1142.0                  1390.0                   101.0   \n",
            "400777                 3673.0                  1038.0                   319.0   \n",
            "400778                 2179.0                   312.0                   219.0   \n",
            "\n",
            "        Number of Trips 250-500  Number of Trips >=500             Row ID  \\\n",
            "0                       1806022                1728112  00-00000-20190101   \n",
            "1                       1962301                1531219  00-00000-20190102   \n",
            "2                       2038099                1567072  00-00000-20190103   \n",
            "3                       2096065                1569185  00-00000-20190104   \n",
            "4                       1991159                1438664  00-00000-20190105   \n",
            "...                         ...                    ...                ...   \n",
            "400774                     54.0                    0.0  20-20199-20190404   \n",
            "400775                    104.0                   10.0  20-20201-20190404   \n",
            "400776                     14.0                    2.0  20-20203-20190404   \n",
            "400777                     26.0                    2.0  20-20205-20190404   \n",
            "400778                      5.0                   43.0           20-20207   \n",
            "\n",
            "        Week Month  \n",
            "0        0.0   1.0  \n",
            "1        0.0   1.0  \n",
            "2        0.0   1.0  \n",
            "3        0.0   1.0  \n",
            "4        0.0   1.0  \n",
            "...      ...   ...  \n",
            "400774  13.0   4.0  \n",
            "400775  13.0   4.0  \n",
            "400776  13.0   4.0  \n",
            "400777  13.0   4.0  \n",
            "400778   NaN   NaN  \n",
            "\n",
            "[400779 rows x 22 columns]\n"
          ]
        }
      ],
      "source": [
        "import numpy as np\n",
        "import pandas as pd\n",
        "import datetime\n",
        "import json\n",
        "import csv\n",
        "import matplotlib.pyplot as pyplot\n",
        "import collections\n",
        "from collections import Counter\n",
        "from IPython.display import display\n",
        "\n",
        "TbD = pd.read_csv(\"Trips_by_Distance.csv\")\n",
        "TFD = pd.read_csv(\"Trips_Full Data.csv\")"
      ]
    },
    {
      "cell_type": "markdown",
      "source": [
        "This code handles data cleaning, which involves handling missing value cells, dublicate data, NaN value columns, and wrong format data."
      ],
      "metadata": {
        "id": "dqyXsX-8NfdI"
      }
    },
    {
      "cell_type": "code",
      "source": [],
      "metadata": {
        "id": "L56yqooIOPCb"
      },
      "execution_count": null,
      "outputs": []
    }
  ]
}